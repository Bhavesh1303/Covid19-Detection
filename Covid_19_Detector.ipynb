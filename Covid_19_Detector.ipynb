{
  "nbformat": 4,
  "nbformat_minor": 0,
  "metadata": {
    "colab": {
      "name": "Covid 19 Detector.ipynb",
      "provenance": [],
      "collapsed_sections": []
    },
    "kernelspec": {
      "name": "python3",
      "display_name": "Python 3"
    },
    "accelerator": "GPU"
  },
  "cells": [
    {
      "cell_type": "code",
      "metadata": {
        "id": "MY3mOdu9B3Mf"
      },
      "source": [
        "import numpy as np\r\n",
        "import matplotlib.pyplot as plt\r\n",
        "import keras\r\n",
        "from keras.layers import *\r\n",
        "from keras.models import *\r\n",
        "from keras.preprocessing import image"
      ],
      "execution_count": 52,
      "outputs": []
    },
    {
      "cell_type": "code",
      "metadata": {
        "id": "AhEoSd0uCO9k"
      },
      "source": [
        "TRAIN_PATH = \"CovidDataset/Train\"\r\n",
        "VAL_PATH = \"CovidDataset/Val\""
      ],
      "execution_count": 53,
      "outputs": []
    },
    {
      "cell_type": "code",
      "metadata": {
        "id": "c7DV-bh3D__P"
      },
      "source": [
        "# CNN Based model in keras\r\n",
        "\r\n",
        "model = Sequential()\r\n",
        "model.add(Conv2D(32,kernel_size=(3,3), activation='relu', input_shape=(224,224,3)))\r\n",
        "model.add(Conv2D(64, (3,3), activation='relu'))\r\n",
        "model.add(MaxPooling2D(pool_size=(2,3)))\r\n",
        "model.add(Dropout(0.25))\r\n",
        "\r\n",
        "model.add(Conv2D(64, (3,3), activation='relu'))\r\n",
        "model.add(MaxPooling2D(pool_size=(2,3)))\r\n",
        "model.add(Dropout(0.25))\r\n",
        "\r\n",
        "model.add(Conv2D(128, (3,3), activation='relu'))\r\n",
        "model.add(MaxPooling2D(pool_size=(2,3)))\r\n",
        "model.add(Dropout(0.25))\r\n",
        "\r\n",
        "model.add(Flatten())\r\n",
        "model.add(Dense(64,activation='relu'))\r\n",
        "model.add(Dropout(0.5))\r\n",
        "model.add(Dense(1, activation='sigmoid'))\r\n",
        "\r\n",
        "model.compile(loss=keras.losses.binary_crossentropy, optimizer='adam', metrics=['accuracy'])"
      ],
      "execution_count": 54,
      "outputs": []
    },
    {
      "cell_type": "code",
      "metadata": {
        "colab": {
          "base_uri": "https://localhost:8080/"
        },
        "id": "6wRrgKZUIRsl",
        "outputId": "d5d9c480-d772-4447-83ae-f65ac8664249"
      },
      "source": [
        "model.summary()"
      ],
      "execution_count": 55,
      "outputs": [
        {
          "output_type": "stream",
          "text": [
            "Model: \"sequential_2\"\n",
            "_________________________________________________________________\n",
            "Layer (type)                 Output Shape              Param #   \n",
            "=================================================================\n",
            "conv2d_8 (Conv2D)            (None, 222, 222, 32)      896       \n",
            "_________________________________________________________________\n",
            "conv2d_9 (Conv2D)            (None, 220, 220, 64)      18496     \n",
            "_________________________________________________________________\n",
            "max_pooling2d_6 (MaxPooling2 (None, 110, 73, 64)       0         \n",
            "_________________________________________________________________\n",
            "dropout_8 (Dropout)          (None, 110, 73, 64)       0         \n",
            "_________________________________________________________________\n",
            "conv2d_10 (Conv2D)           (None, 108, 71, 64)       36928     \n",
            "_________________________________________________________________\n",
            "max_pooling2d_7 (MaxPooling2 (None, 54, 23, 64)        0         \n",
            "_________________________________________________________________\n",
            "dropout_9 (Dropout)          (None, 54, 23, 64)        0         \n",
            "_________________________________________________________________\n",
            "conv2d_11 (Conv2D)           (None, 52, 21, 128)       73856     \n",
            "_________________________________________________________________\n",
            "max_pooling2d_8 (MaxPooling2 (None, 26, 7, 128)        0         \n",
            "_________________________________________________________________\n",
            "dropout_10 (Dropout)         (None, 26, 7, 128)        0         \n",
            "_________________________________________________________________\n",
            "flatten_2 (Flatten)          (None, 23296)             0         \n",
            "_________________________________________________________________\n",
            "dense_4 (Dense)              (None, 64)                1491008   \n",
            "_________________________________________________________________\n",
            "dropout_11 (Dropout)         (None, 64)                0         \n",
            "_________________________________________________________________\n",
            "dense_5 (Dense)              (None, 1)                 65        \n",
            "=================================================================\n",
            "Total params: 1,621,249\n",
            "Trainable params: 1,621,249\n",
            "Non-trainable params: 0\n",
            "_________________________________________________________________\n"
          ],
          "name": "stdout"
        }
      ]
    },
    {
      "cell_type": "code",
      "metadata": {
        "id": "4Ulq8_0VIV67"
      },
      "source": [
        "#Train\r\n",
        "train_datagen = image.ImageDataGenerator(\r\n",
        "    rescale = 1./255,\r\n",
        "    shear_range = 0.2,\r\n",
        "    zoom_range = 0.2,\r\n",
        "    horizontal_flip = True,\r\n",
        ")\r\n",
        "\r\n",
        "test_dataset = image.ImageDataGenerator(\r\n",
        "    rescale=1./255\r\n",
        ")\r\n"
      ],
      "execution_count": 56,
      "outputs": []
    },
    {
      "cell_type": "code",
      "metadata": {
        "colab": {
          "base_uri": "https://localhost:8080/"
        },
        "id": "6dnZmQ32J0gr",
        "outputId": "7f363f67-4fc3-4cf4-864d-330aec2f2eef"
      },
      "source": [
        "train_generator = train_datagen.flow_from_directory(\r\n",
        "    'CovidDataset/Train',\r\n",
        "    target_size = (224,224),\r\n",
        "    batch_size = 16,\r\n",
        "    class_mode = 'binary'\r\n",
        ")"
      ],
      "execution_count": 57,
      "outputs": [
        {
          "output_type": "stream",
          "text": [
            "Found 224 images belonging to 2 classes.\n"
          ],
          "name": "stdout"
        }
      ]
    },
    {
      "cell_type": "code",
      "metadata": {
        "colab": {
          "base_uri": "https://localhost:8080/"
        },
        "id": "Hrdk4AppK9a7",
        "outputId": "6571b5ab-d21c-4d8a-a8c5-c5947b6d1d77"
      },
      "source": [
        "validation_generator = test_dataset.flow_from_directory(\r\n",
        "    'CovidDataset/Val',\r\n",
        "    target_size = (224,224),\r\n",
        "    batch_size = 16,\r\n",
        "    class_mode = 'binary'\r\n",
        ")"
      ],
      "execution_count": 58,
      "outputs": [
        {
          "output_type": "stream",
          "text": [
            "Found 60 images belonging to 2 classes.\n"
          ],
          "name": "stdout"
        }
      ]
    },
    {
      "cell_type": "code",
      "metadata": {
        "colab": {
          "base_uri": "https://localhost:8080/"
        },
        "id": "hok0pTwxL66X",
        "outputId": "579504af-aef0-4a2a-8342-5f3925a0ecd5"
      },
      "source": [
        " hist = model.fit(\r\n",
        "     train_generator,\r\n",
        "     steps_per_epoch = 8,\r\n",
        "     epochs = 10,\r\n",
        "     validation_data = validation_generator,\r\n",
        "     validation_steps = 2\r\n",
        " )"
      ],
      "execution_count": 60,
      "outputs": [
        {
          "output_type": "stream",
          "text": [
            "Epoch 1/10\n",
            "8/8 [==============================] - 6s 783ms/step - loss: 0.1735 - accuracy: 0.9375 - val_loss: 0.0813 - val_accuracy: 0.9688\n",
            "Epoch 2/10\n",
            "8/8 [==============================] - 6s 765ms/step - loss: 0.1504 - accuracy: 0.9375 - val_loss: 0.0316 - val_accuracy: 1.0000\n",
            "Epoch 3/10\n",
            "8/8 [==============================] - 6s 717ms/step - loss: 0.1121 - accuracy: 0.9609 - val_loss: 0.0698 - val_accuracy: 0.9688\n",
            "Epoch 4/10\n",
            "8/8 [==============================] - 6s 762ms/step - loss: 0.1594 - accuracy: 0.9453 - val_loss: 0.0388 - val_accuracy: 1.0000\n",
            "Epoch 5/10\n",
            "8/8 [==============================] - 6s 720ms/step - loss: 0.1075 - accuracy: 0.9531 - val_loss: 0.0422 - val_accuracy: 1.0000\n",
            "Epoch 6/10\n",
            "8/8 [==============================] - 6s 798ms/step - loss: 0.1083 - accuracy: 0.9531 - val_loss: 0.0444 - val_accuracy: 0.9688\n",
            "Epoch 7/10\n",
            "8/8 [==============================] - 6s 754ms/step - loss: 0.0887 - accuracy: 0.9688 - val_loss: 0.1002 - val_accuracy: 0.9688\n",
            "Epoch 8/10\n",
            "8/8 [==============================] - 6s 763ms/step - loss: 0.1481 - accuracy: 0.9531 - val_loss: 0.0434 - val_accuracy: 0.9688\n",
            "Epoch 9/10\n",
            "8/8 [==============================] - 6s 754ms/step - loss: 0.0740 - accuracy: 0.9688 - val_loss: 0.0617 - val_accuracy: 0.9688\n",
            "Epoch 10/10\n",
            "8/8 [==============================] - 5s 654ms/step - loss: 0.0616 - accuracy: 0.9844 - val_loss: 0.0271 - val_accuracy: 1.0000\n"
          ],
          "name": "stdout"
        }
      ]
    },
    {
      "cell_type": "code",
      "metadata": {
        "id": "D9kzTrHwk5VZ"
      },
      "source": [
        ""
      ],
      "execution_count": null,
      "outputs": []
    }
  ]
}